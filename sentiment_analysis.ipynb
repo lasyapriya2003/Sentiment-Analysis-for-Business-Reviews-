{
  "nbformat": 4,
  "nbformat_minor": 0,
  "metadata": {
    "colab": {
      "provenance": []
    },
    "kernelspec": {
      "name": "python3",
      "display_name": "Python 3"
    },
    "language_info": {
      "name": "python"
    }
  },
  "cells": [
    {
      "cell_type": "code",
      "source": [
        "import nltk\n",
        "from nltk.sentiment import SentimentIntensityAnalyzer\n",
        "\n",
        "# Download required NLTK data files\n",
        "nltk.download('vader_lexicon')\n",
        "\n",
        "def sentiment_analysis(sentence):\n",
        "    sia = SentimentIntensityAnalyzer()\n",
        "    sentiment = sia.polarity_scores(sentence)\n",
        "    if sentiment['compound'] >= 0.05:\n",
        "        sentiment_category = \"Positive\"\n",
        "    elif sentiment['compound'] <= -0.05:\n",
        "        sentiment_category = \"Negative\"\n",
        "    else:\n",
        "        sentiment_category = \"Neutral\"\n",
        "    return sentiment, sentiment_category\n",
        "\n",
        "# Test the sentiment analysis\n",
        "reviews = [\n",
        "    \"This product was excellent! Fast delivery and amazing support.\",\n",
        "    \"Very disappointed. The item broke after one day.\",\n",
        "    \"The service was okay, nothing special.\"\n",
        "]\n",
        "\n",
        "for review in reviews:\n",
        "    sentiment, category = sentiment_analysis(review)\n",
        "    print(\"Review:\", review)\n",
        "    print(\"Compound Score:\", sentiment['compound'])\n",
        "    print(\"Sentiment:\", category)\n",
        "    print()\n"
      ],
      "metadata": {
        "colab": {
          "base_uri": "https://localhost:8080/"
        },
        "id": "To0ARNS7Z0nV",
        "outputId": "43f8e784-f449-46f3-aabe-ba2a7d5b4dc9"
      },
      "execution_count": 1,
      "outputs": [
        {
          "output_type": "stream",
          "name": "stdout",
          "text": [
            "Review: This product was excellent! Fast delivery and amazing support.\n",
            "Compound Score: 0.8883\n",
            "Sentiment: Positive\n",
            "\n",
            "Review: Very disappointed. The item broke after one day.\n",
            "Compound Score: -0.7346\n",
            "Sentiment: Negative\n",
            "\n",
            "Review: The service was okay, nothing special.\n",
            "Compound Score: -0.092\n",
            "Sentiment: Negative\n",
            "\n"
          ]
        },
        {
          "output_type": "stream",
          "name": "stderr",
          "text": [
            "[nltk_data] Downloading package vader_lexicon to /root/nltk_data...\n"
          ]
        }
      ]
    }
  ]
}